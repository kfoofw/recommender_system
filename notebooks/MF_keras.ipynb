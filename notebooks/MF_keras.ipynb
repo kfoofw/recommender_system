{
 "cells": [
  {
   "cell_type": "markdown",
   "metadata": {},
   "source": [
    "# Matrix Factorisation with Keras\n",
    "\n",
    "The following is an analysis for performing Matrix Factorisation (MF) with the Keras API using the Embedding layer.\n",
    "\n",
    "For this experiment, we will use a reduced form of the Movie-Lens 20 Million data set. The data set has been processed to extract the top 10000 users and top 2000 movies in terms of ratings counts. \n",
    "\n",
    "Additionally, the user id and movie ids have been preprocessed such that they exist in sequential numerical order. To be more specific, all user ids exist between 0 to 9999, and all movie ids exist between 0 to 1999. The dataset consist of the following columns:\n",
    "- `userId`: User ID ranging from 0 to 9999.\n",
    "- `movieId`: Movie ID ranging from 0 to 1999.\n",
    "- `rating`: Rating that user gave to movie. Range from 0.5 to 5.0."
   ]
  },
  {
   "cell_type": "code",
   "execution_count": 1,
   "metadata": {},
   "outputs": [],
   "source": [
    "import pandas as pd\n",
    "import numpy as np\n",
    "import pickle\n",
    "import matplotlib.pyplot as plt\n",
    "from sklearn.utils import shuffle"
   ]
  },
  {
   "cell_type": "code",
   "execution_count": 2,
   "metadata": {},
   "outputs": [],
   "source": [
    "from tensorflow.keras.layers import Embedding, Input, Dot, Add, Flatten\n",
    "from tensorflow.keras.models import Model\n",
    "from tensorflow.keras.regularizers import l2\n",
    "from tensorflow.keras.optimizers import SGD, Adam"
   ]
  },
  {
   "cell_type": "code",
   "execution_count": 3,
   "metadata": {},
   "outputs": [],
   "source": [
    "# Load in data\n",
    "df = pd.read_csv(\"../data/small_rating.csv\")\n",
    "\n",
    "N = df.userId.max() + 1 # no of users\n",
    "M = df.movieId.max() + 1 # no of movies"
   ]
  },
  {
   "cell_type": "code",
   "execution_count": 4,
   "metadata": {},
   "outputs": [
    {
     "data": {
      "text/html": [
       "<div>\n",
       "<style scoped>\n",
       "    .dataframe tbody tr th:only-of-type {\n",
       "        vertical-align: middle;\n",
       "    }\n",
       "\n",
       "    .dataframe tbody tr th {\n",
       "        vertical-align: top;\n",
       "    }\n",
       "\n",
       "    .dataframe thead th {\n",
       "        text-align: right;\n",
       "    }\n",
       "</style>\n",
       "<table border=\"1\" class=\"dataframe\">\n",
       "  <thead>\n",
       "    <tr style=\"text-align: right;\">\n",
       "      <th></th>\n",
       "      <th>userId</th>\n",
       "      <th>movieId</th>\n",
       "      <th>rating</th>\n",
       "    </tr>\n",
       "  </thead>\n",
       "  <tbody>\n",
       "    <tr>\n",
       "      <th>0</th>\n",
       "      <td>7307</td>\n",
       "      <td>10</td>\n",
       "      <td>4.5</td>\n",
       "    </tr>\n",
       "    <tr>\n",
       "      <th>1</th>\n",
       "      <td>7307</td>\n",
       "      <td>68</td>\n",
       "      <td>2.5</td>\n",
       "    </tr>\n",
       "    <tr>\n",
       "      <th>2</th>\n",
       "      <td>7307</td>\n",
       "      <td>143</td>\n",
       "      <td>3.5</td>\n",
       "    </tr>\n",
       "    <tr>\n",
       "      <th>3</th>\n",
       "      <td>7307</td>\n",
       "      <td>19</td>\n",
       "      <td>5.0</td>\n",
       "    </tr>\n",
       "    <tr>\n",
       "      <th>4</th>\n",
       "      <td>7307</td>\n",
       "      <td>85</td>\n",
       "      <td>4.5</td>\n",
       "    </tr>\n",
       "  </tbody>\n",
       "</table>\n",
       "</div>"
      ],
      "text/plain": [
       "   userId  movieId  rating\n",
       "0    7307       10     4.5\n",
       "1    7307       68     2.5\n",
       "2    7307      143     3.5\n",
       "3    7307       19     5.0\n",
       "4    7307       85     4.5"
      ]
     },
     "execution_count": 4,
     "metadata": {},
     "output_type": "execute_result"
    }
   ],
   "source": [
    "df.head()"
   ]
  },
  {
   "cell_type": "code",
   "execution_count": 5,
   "metadata": {},
   "outputs": [
    {
     "data": {
      "text/plain": [
       "10000"
      ]
     },
     "execution_count": 5,
     "metadata": {},
     "output_type": "execute_result"
    }
   ],
   "source": [
    "# Number of users\n",
    "N"
   ]
  },
  {
   "cell_type": "code",
   "execution_count": 6,
   "metadata": {},
   "outputs": [
    {
     "data": {
      "text/plain": [
       "2000"
      ]
     },
     "execution_count": 6,
     "metadata": {},
     "output_type": "execute_result"
    }
   ],
   "source": [
    "# Number of items\n",
    "M"
   ]
  },
  {
   "cell_type": "markdown",
   "metadata": {},
   "source": [
    "# Train Test Split\n",
    "\n",
    "As with any recommenders system, we will not expect to have a full complete ratings data set (since not all users will rate all movies, and not all movies will receive ratings from all users). Instead, we only have a partially filled matrix which is sparse in nature.\n",
    "\n",
    "Thus, all the available data provided is only in terms of provided ratings, from which we can perform train-test split to obtain a set of training data and testing data. By training on the available ratings, we aim to learn the lower dimensional representations of users and items such that the reconstructed ratings are close to the actual ratings. \n",
    "- Note that each row of training data comes from a pair of User and Item input, with a label of the Rating. \n",
    "- For this analysis, the test dataset will be used for the validation set in the Keras model as shown later.\n",
    "- Note that we can utilise the reduced dimensionality representations of users and items to obtain the ratings that were not given in the sparse ratings matrix (although there will not be any ground truths to compare them with)."
   ]
  },
  {
   "cell_type": "markdown",
   "metadata": {},
   "source": [
    "<div align=\"center\">\n",
    "    <img src=\"https://encrypted-tbn0.gstatic.com/images?q=tbn%3AANd9GcSULWEj9qZm6anO_qTV0MSVMNml28H0r0h6VA&usqp=CAU\", width = 500>\n",
    "</div>"
   ]
  },
  {
   "cell_type": "code",
   "execution_count": 7,
   "metadata": {},
   "outputs": [],
   "source": [
    "# Reproducible train test split\n",
    "np.random.seed(1)\n",
    "\n",
    "# Split into train and test\n",
    "df_shuffled = shuffle(df)\n",
    "cutoff = int(0.9 * len(df_shuffled))\n",
    "df_train = df_shuffled.iloc[:cutoff]\n",
    "df_test = df_shuffled.iloc[cutoff:]"
   ]
  },
  {
   "cell_type": "code",
   "execution_count": 8,
   "metadata": {},
   "outputs": [
    {
     "data": {
      "text/html": [
       "<div>\n",
       "<style scoped>\n",
       "    .dataframe tbody tr th:only-of-type {\n",
       "        vertical-align: middle;\n",
       "    }\n",
       "\n",
       "    .dataframe tbody tr th {\n",
       "        vertical-align: top;\n",
       "    }\n",
       "\n",
       "    .dataframe thead th {\n",
       "        text-align: right;\n",
       "    }\n",
       "</style>\n",
       "<table border=\"1\" class=\"dataframe\">\n",
       "  <thead>\n",
       "    <tr style=\"text-align: right;\">\n",
       "      <th></th>\n",
       "      <th>userId</th>\n",
       "      <th>movieId</th>\n",
       "      <th>rating</th>\n",
       "    </tr>\n",
       "  </thead>\n",
       "  <tbody>\n",
       "    <tr>\n",
       "      <th>1996526</th>\n",
       "      <td>7460</td>\n",
       "      <td>1153</td>\n",
       "      <td>2.5</td>\n",
       "    </tr>\n",
       "    <tr>\n",
       "      <th>1864726</th>\n",
       "      <td>2986</td>\n",
       "      <td>1028</td>\n",
       "      <td>4.5</td>\n",
       "    </tr>\n",
       "    <tr>\n",
       "      <th>4206286</th>\n",
       "      <td>2649</td>\n",
       "      <td>173</td>\n",
       "      <td>3.5</td>\n",
       "    </tr>\n",
       "    <tr>\n",
       "      <th>4672159</th>\n",
       "      <td>3549</td>\n",
       "      <td>594</td>\n",
       "      <td>1.5</td>\n",
       "    </tr>\n",
       "    <tr>\n",
       "      <th>3808932</th>\n",
       "      <td>2688</td>\n",
       "      <td>462</td>\n",
       "      <td>3.0</td>\n",
       "    </tr>\n",
       "    <tr>\n",
       "      <th>...</th>\n",
       "      <td>...</td>\n",
       "      <td>...</td>\n",
       "      <td>...</td>\n",
       "    </tr>\n",
       "    <tr>\n",
       "      <th>5298654</th>\n",
       "      <td>2383</td>\n",
       "      <td>36</td>\n",
       "      <td>4.0</td>\n",
       "    </tr>\n",
       "    <tr>\n",
       "      <th>3559315</th>\n",
       "      <td>6692</td>\n",
       "      <td>90</td>\n",
       "      <td>4.0</td>\n",
       "    </tr>\n",
       "    <tr>\n",
       "      <th>2747744</th>\n",
       "      <td>7542</td>\n",
       "      <td>555</td>\n",
       "      <td>2.0</td>\n",
       "    </tr>\n",
       "    <tr>\n",
       "      <th>3411346</th>\n",
       "      <td>3419</td>\n",
       "      <td>571</td>\n",
       "      <td>3.0</td>\n",
       "    </tr>\n",
       "    <tr>\n",
       "      <th>3613875</th>\n",
       "      <td>218</td>\n",
       "      <td>689</td>\n",
       "      <td>4.5</td>\n",
       "    </tr>\n",
       "  </tbody>\n",
       "</table>\n",
       "<p>4852822 rows × 3 columns</p>\n",
       "</div>"
      ],
      "text/plain": [
       "         userId  movieId  rating\n",
       "1996526    7460     1153     2.5\n",
       "1864726    2986     1028     4.5\n",
       "4206286    2649      173     3.5\n",
       "4672159    3549      594     1.5\n",
       "3808932    2688      462     3.0\n",
       "...         ...      ...     ...\n",
       "5298654    2383       36     4.0\n",
       "3559315    6692       90     4.0\n",
       "2747744    7542      555     2.0\n",
       "3411346    3419      571     3.0\n",
       "3613875     218      689     4.5\n",
       "\n",
       "[4852822 rows x 3 columns]"
      ]
     },
     "execution_count": 8,
     "metadata": {},
     "output_type": "execute_result"
    }
   ],
   "source": [
    "df_train"
   ]
  },
  {
   "cell_type": "code",
   "execution_count": 9,
   "metadata": {},
   "outputs": [
    {
     "data": {
      "text/html": [
       "<div>\n",
       "<style scoped>\n",
       "    .dataframe tbody tr th:only-of-type {\n",
       "        vertical-align: middle;\n",
       "    }\n",
       "\n",
       "    .dataframe tbody tr th {\n",
       "        vertical-align: top;\n",
       "    }\n",
       "\n",
       "    .dataframe thead th {\n",
       "        text-align: right;\n",
       "    }\n",
       "</style>\n",
       "<table border=\"1\" class=\"dataframe\">\n",
       "  <thead>\n",
       "    <tr style=\"text-align: right;\">\n",
       "      <th></th>\n",
       "      <th>userId</th>\n",
       "      <th>movieId</th>\n",
       "      <th>rating</th>\n",
       "    </tr>\n",
       "  </thead>\n",
       "  <tbody>\n",
       "    <tr>\n",
       "      <th>904377</th>\n",
       "      <td>6119</td>\n",
       "      <td>663</td>\n",
       "      <td>1.0</td>\n",
       "    </tr>\n",
       "    <tr>\n",
       "      <th>2489067</th>\n",
       "      <td>4533</td>\n",
       "      <td>742</td>\n",
       "      <td>3.0</td>\n",
       "    </tr>\n",
       "    <tr>\n",
       "      <th>4388123</th>\n",
       "      <td>5393</td>\n",
       "      <td>461</td>\n",
       "      <td>3.0</td>\n",
       "    </tr>\n",
       "    <tr>\n",
       "      <th>3004970</th>\n",
       "      <td>680</td>\n",
       "      <td>503</td>\n",
       "      <td>4.0</td>\n",
       "    </tr>\n",
       "    <tr>\n",
       "      <th>1931382</th>\n",
       "      <td>9937</td>\n",
       "      <td>675</td>\n",
       "      <td>3.0</td>\n",
       "    </tr>\n",
       "    <tr>\n",
       "      <th>...</th>\n",
       "      <td>...</td>\n",
       "      <td>...</td>\n",
       "      <td>...</td>\n",
       "    </tr>\n",
       "    <tr>\n",
       "      <th>5030793</th>\n",
       "      <td>6374</td>\n",
       "      <td>1366</td>\n",
       "      <td>3.0</td>\n",
       "    </tr>\n",
       "    <tr>\n",
       "      <th>491263</th>\n",
       "      <td>6557</td>\n",
       "      <td>335</td>\n",
       "      <td>3.0</td>\n",
       "    </tr>\n",
       "    <tr>\n",
       "      <th>3937352</th>\n",
       "      <td>2434</td>\n",
       "      <td>1527</td>\n",
       "      <td>2.5</td>\n",
       "    </tr>\n",
       "    <tr>\n",
       "      <th>4686059</th>\n",
       "      <td>2747</td>\n",
       "      <td>17</td>\n",
       "      <td>4.0</td>\n",
       "    </tr>\n",
       "    <tr>\n",
       "      <th>4322341</th>\n",
       "      <td>2276</td>\n",
       "      <td>423</td>\n",
       "      <td>4.0</td>\n",
       "    </tr>\n",
       "  </tbody>\n",
       "</table>\n",
       "<p>539203 rows × 3 columns</p>\n",
       "</div>"
      ],
      "text/plain": [
       "         userId  movieId  rating\n",
       "904377     6119      663     1.0\n",
       "2489067    4533      742     3.0\n",
       "4388123    5393      461     3.0\n",
       "3004970     680      503     4.0\n",
       "1931382    9937      675     3.0\n",
       "...         ...      ...     ...\n",
       "5030793    6374     1366     3.0\n",
       "491263     6557      335     3.0\n",
       "3937352    2434     1527     2.5\n",
       "4686059    2747       17     4.0\n",
       "4322341    2276      423     4.0\n",
       "\n",
       "[539203 rows x 3 columns]"
      ]
     },
     "execution_count": 9,
     "metadata": {},
     "output_type": "execute_result"
    }
   ],
   "source": [
    "df_test"
   ]
  },
  {
   "cell_type": "markdown",
   "metadata": {},
   "source": [
    "# Keras Embedding layers\n",
    "Using Keras, we are able to represent Matrix Factorisation (MF) with its Embedding layers. The Embedding layer is commonly used to convert discrete data that might be represented by sparse one-hot encoding into a dense representation with a specified input for hidden dimensionality. \n",
    "\n",
    "For intuition, the Embedding layers are often used in Natural Language Processing (NLP) with text formatting, where words or sequences of words (n-grams) can be used \n",
    "\n",
    "The key inputs for the Embedding layer consists of: \n",
    "- `input_dim`: The number of feature dimensions. In NLP, this refers to the expected vocabulary size for the corpus. In recommenders MF, this represents the number of users or items.\n",
    "- `output_dim`: The hidden/latent dimensionality for dense representation.\n",
    "- `input_length`: This refers to the sequence length that is often used in NLP for n-grams. For recommenders MF, this remains as 1 since the data used does not have sequences.\n",
    "\n",
    "Ignoring the effect of `input_length` since it is 1, what the Embedding layer does is that it constructs a reduced representation of the work as represented by `input_dim` by `output_dim` which is similar to the U or M matrices in MF. Thus, for a given user or item, it is represented by a vector of shape (1 by `hidden_dimension`) in dense representation."
   ]
  },
  {
   "cell_type": "markdown",
   "metadata": {},
   "source": [
    "<div align=\"center\">\n",
    "    <img src=\"https://lazyprogrammer.me/wp-content/uploads/2016/04/matrix_factorization.png\", width = 500>\n",
    "</div>"
   ]
  },
  {
   "cell_type": "markdown",
   "metadata": {},
   "source": [
    "\n",
    "In this workflow, the output dimensions of the Embedding layer is a 3D tensor of dimensions (batch_size, input_length, output_dim), where:\n",
    "- `batch_size`: Number of training examples used per batch. Specified in the `model.compile()` step.\n",
    "- `input_length`: 1 since we are not dealing with data with sequences (such as n-grams in NLP).\n",
    "- `output_dim`: Hidden/latent dimensions for dense representation"
   ]
  },
  {
   "cell_type": "markdown",
   "metadata": {},
   "source": [
    "The Embedding layer also allows for a regularisation input, which can be specified using other Keras regularizers class objects such as `l2`."
   ]
  },
  {
   "cell_type": "markdown",
   "metadata": {},
   "source": [
    "We will use Keras Embedding layer to represent the following:\n",
    "- U: User matrix of dimensions N x K\n",
    "- V: Item matrix of dimensions K x M\n",
    "- User bias: Matrix of dimensions N x 1. This represents 1 bias per user.\n",
    "- Item bias: Matrix of dimensions M x 1. This represents 1 bias per item."
   ]
  },
  {
   "cell_type": "markdown",
   "metadata": {},
   "source": [
    "For a reference on the Keras Embedding layer, please refer to its [documentation](https://keras.io/api/layers/core_layers/embedding/)."
   ]
  },
  {
   "cell_type": "markdown",
   "metadata": {},
   "source": [
    "# Keras Model MF Supervised Learning Model\n",
    "For each training data pairing of user and item, we have a training label which represents the rating that the user gave the product. Using Keras, we can set up the `U` and `V` embedding layers (of reduced dimensions) which take in corresponding data inputs in the form of `u` (for user) and `m` (for item). \n",
    "\n",
    "By giving `u` as an input to `U` embedding layer, this extracts out the relevant reduced dimension representation of the particular user in the training data pairing. Likewise, the same goes for the `m` input to the `V` embedding layer.\n",
    "\n",
    "Thereafter, we perform a __dot product__ using the user representation $U_i$ and the item representation $V_i$. In the context of matrix factorisation, this is the exact equivalent of reconstructing the particular rating in the ratings matrix for a given user and item pair.\n",
    "\n",
    "An additional note is that in this case, we will also be accounting for the user and item bias to each rating. We can also represent the bias using Embedding layers as well, but with an `output_dim` of 1. Both the user bias Embedding and item bias Embedding layers will take in corresponding inputs `u` and `m` to obtain the bias associated with each user and item.\n",
    "\n",
    "At the same time, we will also center the data by subtracting the global mean rating of the training data to make the computation more efficient.\n",
    "\n",
    "$$\\hat{rating_{ij}} = U_i \\cdot V_j + user\\_bias_i + item\\_bias_j + rating_{\\mu},\\ where$$\n",
    "$$U_i = User\\ i\\ representation$$\n",
    "$$V_j = Item\\ j\\ representation$$\n",
    "$$user\\_bias_i = Bias\\ for\\ user\\ i$$\n",
    "$$item\\_bias_i = Bias\\ for\\ item\\ j$$\n",
    "$$rating_{\\mu} = Global\\ mean\\ rating\\ (training\\ data)$$\n"
   ]
  },
  {
   "cell_type": "markdown",
   "metadata": {},
   "source": [
    "In the following, we obtain the parameters for the experiment such as the hidden/latent dimensionality, the global rating mean for the training data, as well as Keras model parameters."
   ]
  },
  {
   "cell_type": "code",
   "execution_count": 10,
   "metadata": {},
   "outputs": [],
   "source": [
    "# Initialize variables\n",
    "K = 20 # latent dimensionality\n",
    "\n",
    "# Calculate the mean ratings to be used \n",
    "mu = df_train.rating.mean()\n",
    "\n",
    "# Model parameters\n",
    "epochs = 10\n",
    "reg = 0.001 # regularization penalty if required"
   ]
  },
  {
   "cell_type": "markdown",
   "metadata": {},
   "source": [
    "In the following, we set up the Keras layers as described using the concept of Embedding layers for representation, and obtaining the predicted rating for each pair of user and movie. This is set up such that the model takes in a tuple of 2 inputs `u` and `m`, which are the corresponding user ID and the movie ID.\n",
    "\n",
    "Since we are dealing with ratings (which is a continuous response variable), we can use Mean Squared Error as the loss function.\n",
    "\n",
    "As a slight modification to the mathematical equation, we will make the label data (Y) such that it is the actual ratings minus the global ratings means of the training data. This is demonstrated in the following:\n",
    "$$\\hat{rating_{ij}} - rating_{\\mu} = U_i \\cdot V_j + user\\_bias_i + item\\_bias_j$$\n",
    "$$Y = U_i \\cdot V_j + user\\_bias_i + item\\_bias_j$$"
   ]
  },
  {
   "cell_type": "code",
   "execution_count": 11,
   "metadata": {},
   "outputs": [],
   "source": [
    "# Keras model\n",
    "# Specifying shape of u and m has downstream implications for the \"input_length\" for u_embedding and m_embedding.\n",
    "# Since we are not dealing with text data, the \"input_length\" is 1.\n",
    "u = Input(shape = (1,)) \n",
    "m = Input(shape = (1,))\n",
    "\n",
    "# Output Embedding layer of Keras (1, Sequence_length, K (latent/hidden dimensionality for dense representation))\n",
    "# In the context of matrix factorisation, K is the same for both U and M embedding layers\n",
    "# sequence_length = 1 since we are dealing with discrete users and items, and not NLP text\n",
    "u_embedding = Embedding(input_dim = N, output_dim = K, embeddings_regularizer= l2(reg))(u) # Output Embedding layer (Batch_size, 1, K)\n",
    "m_embedding = Embedding(input_dim = M, output_dim = K, embeddings_regularizer = l2(reg))(m) # Output Embedding layer (Batch_size, 1, K)\n",
    "\n",
    "# Adding Bias for each Embedding layer. \n",
    "u_bias = Embedding(input_dim = N, output_dim = 1, embeddings_regularizer=l2(reg))(u) # (Batch_size, 1, 1)\n",
    "m_bias = Embedding(input_dim = M, output_dim = 1, embeddings_regularizer=l2(reg))(m) # (Batch_size, 1, 1)\n",
    "\n",
    "# ratings (dot product between user embedding and item embedding)\n",
    "# \"axes\" input is to specify the axis for performing the dot product operation\n",
    "ratings = Dot(axes=2)([u_embedding, m_embedding]) # (Batch_size, 1, 1)\n",
    "\n",
    "# Account for biases in eventual rating\n",
    "ratings = Add()([ratings, u_bias, m_bias])\n",
    "\n",
    "# Flattening/Reducing from 3D tensor to 2D tensor\n",
    "ratings = Flatten()(ratings) # (Batch_size, 1)\n",
    "\n",
    "model = Model(inputs=[u, m], outputs = ratings)\n",
    "model.compile(\n",
    "    # Mse loss function includes regularisation\n",
    "    loss = \"mse\", \n",
    "    # Optimizer with hyper-parameters\n",
    "    optimizer = SGD(lr = 0.01, momentum = 0.9),\n",
    "    # Explicit stating of mse in metrics is returns loss function without regularisation portion\n",
    "    metrics = [\"mse\"] \n",
    ")"
   ]
  },
  {
   "cell_type": "code",
   "execution_count": 12,
   "metadata": {},
   "outputs": [
    {
     "name": "stdout",
     "output_type": "stream",
     "text": [
      "Model: \"model\"\n",
      "__________________________________________________________________________________________________\n",
      "Layer (type)                    Output Shape         Param #     Connected to                     \n",
      "==================================================================================================\n",
      "input_1 (InputLayer)            [(None, 1)]          0                                            \n",
      "__________________________________________________________________________________________________\n",
      "input_2 (InputLayer)            [(None, 1)]          0                                            \n",
      "__________________________________________________________________________________________________\n",
      "embedding (Embedding)           (None, 1, 20)        200000      input_1[0][0]                    \n",
      "__________________________________________________________________________________________________\n",
      "embedding_1 (Embedding)         (None, 1, 20)        40000       input_2[0][0]                    \n",
      "__________________________________________________________________________________________________\n",
      "dot (Dot)                       (None, 1, 1)         0           embedding[0][0]                  \n",
      "                                                                 embedding_1[0][0]                \n",
      "__________________________________________________________________________________________________\n",
      "embedding_2 (Embedding)         (None, 1, 1)         10000       input_1[0][0]                    \n",
      "__________________________________________________________________________________________________\n",
      "embedding_3 (Embedding)         (None, 1, 1)         2000        input_2[0][0]                    \n",
      "__________________________________________________________________________________________________\n",
      "add (Add)                       (None, 1, 1)         0           dot[0][0]                        \n",
      "                                                                 embedding_2[0][0]                \n",
      "                                                                 embedding_3[0][0]                \n",
      "__________________________________________________________________________________________________\n",
      "flatten (Flatten)               (None, 1)            0           add[0][0]                        \n",
      "==================================================================================================\n",
      "Total params: 252,000\n",
      "Trainable params: 252,000\n",
      "Non-trainable params: 0\n",
      "__________________________________________________________________________________________________\n"
     ]
    }
   ],
   "source": [
    "model.summary()"
   ]
  },
  {
   "cell_type": "markdown",
   "metadata": {},
   "source": [
    "With the model summary, we can observe how the inputs `u` and `m` are used to connect with the various embedding layers (`u` for `U` & `u_bias`, `m` for `M` & `m_bias`). Thereafter, we obtain the predicted ratings by performing the necessary dot product with arithmetic operations (accounting for the bias).\n",
    "\n",
    "As shown in the following, the inputs are based on the pairings of the user ID and movie ID for each rating. The test dataset which we previously obtained is used for the validation data set."
   ]
  },
  {
   "cell_type": "code",
   "execution_count": 13,
   "metadata": {},
   "outputs": [
    {
     "name": "stdout",
     "output_type": "stream",
     "text": [
      "Epoch 1/10\n"
     ]
    },
    {
     "name": "stderr",
     "output_type": "stream",
     "text": [
      "/home/kenneth/anaconda3/lib/python3.7/site-packages/tensorflow/python/framework/indexed_slices.py:434: UserWarning: Converting sparse IndexedSlices to a dense Tensor of unknown shape. This may consume a large amount of memory.\n",
      "  \"Converting sparse IndexedSlices to a dense Tensor of unknown shape. \"\n"
     ]
    },
    {
     "name": "stdout",
     "output_type": "stream",
     "text": [
      "37913/37913 [==============================] - 113s 3ms/step - loss: 0.9582 - mse: 0.8915 - val_loss: 0.9409 - val_mse: 0.8801\n",
      "Epoch 2/10\n",
      "37913/37913 [==============================] - 115s 3ms/step - loss: 0.9404 - mse: 0.8796 - val_loss: 0.9410 - val_mse: 0.8804\n",
      "Epoch 3/10\n",
      "37913/37913 [==============================] - 107s 3ms/step - loss: 0.9404 - mse: 0.8796 - val_loss: 0.9409 - val_mse: 0.8802\n",
      "Epoch 4/10\n",
      "37913/37913 [==============================] - 105s 3ms/step - loss: 0.9404 - mse: 0.8796 - val_loss: 0.9409 - val_mse: 0.8798\n",
      "Epoch 5/10\n",
      "37913/37913 [==============================] - 109s 3ms/step - loss: 0.9404 - mse: 0.8796 - val_loss: 0.9409 - val_mse: 0.8802\n",
      "Epoch 6/10\n",
      "37913/37913 [==============================] - 113s 3ms/step - loss: 0.9404 - mse: 0.8796 - val_loss: 0.9408 - val_mse: 0.8801\n",
      "Epoch 7/10\n",
      "37913/37913 [==============================] - 116s 3ms/step - loss: 0.9404 - mse: 0.8796 - val_loss: 0.9410 - val_mse: 0.8799\n",
      "Epoch 8/10\n",
      "37913/37913 [==============================] - 117s 3ms/step - loss: 0.9404 - mse: 0.8796 - val_loss: 0.9409 - val_mse: 0.8806\n",
      "Epoch 9/10\n",
      "37913/37913 [==============================] - 118s 3ms/step - loss: 0.9404 - mse: 0.8797 - val_loss: 0.9409 - val_mse: 0.8796\n",
      "Epoch 10/10\n",
      "37913/37913 [==============================] - 118s 3ms/step - loss: 0.9404 - mse: 0.8796 - val_loss: 0.9410 - val_mse: 0.8798\n"
     ]
    }
   ],
   "source": [
    "# Train the model\n",
    "matrix_factorisation = model.fit(\n",
    "    # Training data in tuples (u, m)\n",
    "    x = [df_train.userId.values, df_train.movieId.values],\n",
    "    \n",
    "    # Labels are the deviations from the average ratings\n",
    "    y = df_train.rating.values - mu,\n",
    "    epochs= epochs,\n",
    "    batch_size = 128,\n",
    "    validation_data = (\n",
    "        [df_test.userId.values, df_test.movieId.values],\n",
    "        df_test.rating.values - mu\n",
    "    )\n",
    ")"
   ]
  },
  {
   "cell_type": "code",
   "execution_count": 14,
   "metadata": {},
   "outputs": [
    {
     "data": {
      "image/png": "[encoded data removed]",
      "text/plain": [
       "<Figure size 432x288 with 1 Axes>"
      ]
     },
     "metadata": {
      "needs_background": "light"
     },
     "output_type": "display_data"
    }
   ],
   "source": [
    "# Plot losses (loss is MSE with regularisation term)\n",
    "plt.plot(matrix_factorisation.history['loss'], label=\"train loss\")\n",
    "plt.plot(matrix_factorisation.history['val_loss'], label=\"test loss\")\n",
    "plt.legend()\n",
    "plt.show()"
   ]
  },
  {
   "cell_type": "code",
   "execution_count": 15,
   "metadata": {},
   "outputs": [
    {
     "data": {
      "image/png": "[encoded data removed]",
      "text/plain": [
       "<Figure size 432x288 with 1 Axes>"
      ]
     },
     "metadata": {
      "needs_background": "light"
     },
     "output_type": "display_data"
    }
   ],
   "source": [
    "# Plot metric (\"mse\" metric is MSE without regularisation term)\n",
    "plt.plot(matrix_factorisation.history['mse'], label=\"train mse\")\n",
    "plt.plot(matrix_factorisation.history['val_mse'], label=\"test mse\")\n",
    "plt.legend()\n",
    "plt.show()"
   ]
  },
  {
   "cell_type": "markdown",
   "metadata": {},
   "source": [
    "As shown by the final MSE metric, the loss for the training and test data have very similar loss quantum hovering around 0.880. This shows that the model with a latent dimensionality of K = 20 has managed to generalise well."
   ]
  }
 ],
 "metadata": {
  "kernelspec": {
   "display_name": "Python 3",
   "language": "python",
   "name": "python3"
  },
  "language_info": {
   "codemirror_mode": {
    "name": "ipython",
    "version": 3
   },
   "file_extension": ".py",
   "mimetype": "text/x-python",
   "name": "python",
   "nbconvert_exporter": "python",
   "pygments_lexer": "ipython3",
   "version": "3.7.6"
  }
 },
 "nbformat": 4,
 "nbformat_minor": 4
}
